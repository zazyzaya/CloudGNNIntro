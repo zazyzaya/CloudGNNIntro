{
 "cells": [
  {
   "attachments": {},
   "cell_type": "markdown",
   "metadata": {},
   "source": [
    "# Introduction\n",
    "We're going to a quick experiment to see how link prediction and node classification relate to one another. To do this, we will impliment a graph autoencoder (GAE). This will take as input a graph G, consisting of nodes V, edges, E, and features associated with each node, X.\n",
    "\n",
    "Before we start, please make sure you have python 3 installed, and pip. It's recommended you create a new python environment (though not required), then use `pip install -r requirements.txt` in the command line"
   ]
  },
  {
   "cell_type": "code",
   "execution_count": 9,
   "metadata": {},
   "outputs": [],
   "source": [
    "import torch # Neural network module\n",
    "from torch import nn \n",
    "from torch_geometric.nn import MessagePassing # Graph neural network module"
   ]
  },
  {
   "attachments": {},
   "cell_type": "markdown",
   "metadata": {},
   "source": [
    "If the above cell did not execute, make sure you double check that this notebook is using the python environment that imported the `requirements.txt` file. "
   ]
  },
  {
   "attachments": {},
   "cell_type": "markdown",
   "metadata": {},
   "source": [
    "# Getting some data\n",
    "Let's get a simple dataset to play with. `torch_geometric` provides a few we can use to get started. The below code will download a small dataset to this dirctory and allow us to get started."
   ]
  },
  {
   "cell_type": "code",
   "execution_count": 7,
   "metadata": {},
   "outputs": [
    {
     "name": "stdout",
     "output_type": "stream",
     "text": [
      "34 nodes\n",
      "34 features\n",
      "156 edges\n",
      "4 labels\n"
     ]
    }
   ],
   "source": [
    "from torch_geometric.datasets import KarateClub\n",
    "g = KarateClub()\n",
    "\n",
    "print(f\"{g.x.size(0)} nodes\")\n",
    "print(f\"{g.x.size(1)} features\")\n",
    "print(f\"{g.edge_index.size(1)} edges\")\n",
    "print(f\"{g.y.max()+1} labels\")"
   ]
  },
  {
   "attachments": {},
   "cell_type": "markdown",
   "metadata": {},
   "source": [
    "Torch Geometric graphs are structured as a matrix of features `X` and a list of classes for each feature `y`, which is pretty standard for machine learning. They differ from normal machine learning datasets with the introduction of the `edge_index` field. This is a 2x|E| dimensional matrix of edges. The top row represents the source node, and the bottom row represents the destination node for the edge. Let's see how this looks:"
   ]
  },
  {
   "cell_type": "code",
   "execution_count": 8,
   "metadata": {},
   "outputs": [
    {
     "data": {
      "text/plain": [
       "tensor([[ 0,  0,  0,  0,  0,  0,  0,  0,  0,  0],\n",
       "        [ 1,  2,  3,  4,  5,  6,  7,  8, 10, 11]])"
      ]
     },
     "execution_count": 8,
     "metadata": {},
     "output_type": "execute_result"
    }
   ],
   "source": [
    "# The first 10 edges\n",
    "g.edge_index[:,:10]"
   ]
  },
  {
   "attachments": {},
   "cell_type": "markdown",
   "metadata": {},
   "source": [
    "The first ten edges all originate from node 0. They point to nodes 1-11. This dataset is a social network of a karate class. Here, nodes represent students, and edges represent that a student is friends with another. "
   ]
  },
  {
   "attachments": {},
   "cell_type": "markdown",
   "metadata": {},
   "source": [
    "# Building our first GNN\n",
    "Now that we've seen what the data looks like, let's look at how to do message passing. Luckilly, `torch_geometric` makes this pretty easy. "
   ]
  },
  {
   "cell_type": "code",
   "execution_count": 13,
   "metadata": {},
   "outputs": [
    {
     "name": "stdout",
     "output_type": "stream",
     "text": [
      "X\n",
      "tensor([[1., 0., 0., 0., 0.],\n",
      "        [0., 1., 0., 0., 0.],\n",
      "        [0., 0., 1., 0., 0.],\n",
      "        [0., 0., 0., 1., 0.],\n",
      "        [0., 0., 0., 0., 1.]])\n",
      "\n",
      "Propagated messages\n",
      "tensor([[0., 0., 0., 0., 1.],\n",
      "        [1., 0., 0., 0., 0.],\n",
      "        [0., 1., 0., 0., 0.],\n",
      "        [0., 0., 1., 0., 0.],\n",
      "        [0., 0., 0., 1., 0.]])\n"
     ]
    }
   ],
   "source": [
    "mp = MessagePassing(aggr='mean')\n",
    "\n",
    "# As an example, make a graph with 5 nodes, \n",
    "# with the identity matrix as the node features\n",
    "x_example = torch.eye(5)\n",
    "\n",
    "# And we'll just add some random edges. Each node points to the next one\n",
    "# in a big circular structure\n",
    "ei_example = torch.tensor([\n",
    "    [0,1,2,3,4],\n",
    "    [1,2,3,4,0]\n",
    "])\n",
    "\n",
    "print(\"X\")\n",
    "print(x_example)\n",
    "\n",
    "# To pass messages (features) from a node to its neighbors \n",
    "# just use the propagate method of the MessagePassing object\n",
    "print(\"\\nPropagated messages\")\n",
    "print(mp.propagate(ei_example, x=x_example))"
   ]
  },
  {
   "attachments": {},
   "cell_type": "markdown",
   "metadata": {},
   "source": [
    "As expected, the matrix of passed messages is shifted down one. As if each node in the graph shifted by one. Great. With this basic mechanic in mind, try it on your own with the karate club dataset:"
   ]
  },
  {
   "cell_type": "code",
   "execution_count": 14,
   "metadata": {},
   "outputs": [
    {
     "name": "stdout",
     "output_type": "stream",
     "text": [
      "X\n",
      "tensor([[1., 0., 0.,  ..., 0., 0., 0.],\n",
      "        [0., 1., 0.,  ..., 0., 0., 0.],\n",
      "        [0., 0., 1.,  ..., 0., 0., 0.],\n",
      "        ...,\n",
      "        [0., 0., 0.,  ..., 1., 0., 0.],\n",
      "        [0., 0., 0.,  ..., 0., 1., 0.],\n",
      "        [0., 0., 0.,  ..., 0., 0., 1.]])\n",
      "\n",
      "Propagated messages\n"
     ]
    }
   ],
   "source": [
    "print('X')\n",
    "print(g.x)\n",
    "\n",
    "print(\"\\nPropagated messages\")\n",
    "\n",
    "# Use mp.propagate to do one message-passing step on `g`"
   ]
  },
  {
   "attachments": {},
   "cell_type": "markdown",
   "metadata": {},
   "source": [
    "Great. Now let's get a little more advanced. Let's include the feature aggregation step, and make a whole pytorch module"
   ]
  },
  {
   "cell_type": "code",
   "execution_count": 15,
   "metadata": {},
   "outputs": [],
   "source": [
    "class MyGCN(nn.Module):\n",
    "    def __init__(self, in_dim, out_dim):\n",
    "        super().__init__()\n",
    "        \n",
    "        # First we want it to pass messages\n",
    "        self.mp = MessagePassing(aggr='mean')\n",
    "\n",
    "        # Then we want it to aggregate those messages using \n",
    "        # a nonlinear projection. Here, we'll use a linear layer\n",
    "        # and put a nonlinearity on the output later\n",
    "        self.mlp = nn.Linear(in_dim, out_dim)\n",
    "    \n",
    "    def forward(self, x, edge_index):\n",
    "        x = self.mp.propagate(edge_index, x=x)\n",
    "        return self.mlp(x)"
   ]
  },
  {
   "attachments": {},
   "cell_type": "markdown",
   "metadata": {},
   "source": [
    "Let's take the new GCN out for a spin. Try passing it the karate club data"
   ]
  },
  {
   "cell_type": "code",
   "execution_count": 18,
   "metadata": {},
   "outputs": [],
   "source": [
    "# We'll project to 16 dimensions, but feel free to experiment with this value\n",
    "# and see how it changes the results\n",
    "gcn = MyGCN(g.x.size(1), 16) \n",
    "\n",
    "# Add your code here:"
   ]
  },
  {
   "attachments": {},
   "cell_type": "markdown",
   "metadata": {},
   "source": [
    "Great! Now let's stack a few together and make a whole neural network. "
   ]
  },
  {
   "cell_type": "code",
   "execution_count": 23,
   "metadata": {},
   "outputs": [],
   "source": [
    "class MyGCNModule(nn.Module):\n",
    "    def __init__(self, in_dim, hidden_dim, out_dim, layers=2):\n",
    "        super().__init__()\n",
    "        self.gcns = nn.ModuleList(\n",
    "            [MyGCN(in_dim, hidden_dim)] + \n",
    "            [MyGCN(hidden_dim, hidden_dim) for _ in range(layers-2)] + \n",
    "            [MyGCN(hidden_dim, out_dim)]\n",
    "        )\n",
    "        self.bce = nn.BCELoss()\n",
    "    \n",
    "    def embed(self, x, edge_index):\n",
    "        for gcn in self.gcns[:-1]:\n",
    "            x = gcn(x, edge_index)\n",
    "            x = torch.relu(x)\n",
    "        \n",
    "        # No activation on the last one\n",
    "        return self.gcns[-1](x, edge_index)\n",
    "    \n",
    "    def connection_probability(self, z, edges):\n",
    "        '''\n",
    "        Take the dot product of two nodes embeddings to \n",
    "        determine if they're connected\n",
    "        '''\n",
    "        return torch.sigmoid(\n",
    "            (z[edges[0]] * z[edges[1]]).sum(dim=1)\n",
    "        )\n",
    "\n",
    "    def calc_loss(self, z, edge_index):\n",
    "        # Generate a list of non-edges\n",
    "        fake_edges = torch.randint(0, edge_index.max(), edge_index.size())\n",
    "        \n",
    "        # We are classifying links as probable or non-probable. \n",
    "        # Thus, we generate some fake edges, and say their class is 0\n",
    "        # and real edges have a target class of 1 \n",
    "        targets = torch.zeros(edge_index.size(1)*2)\n",
    "        targets[:edge_index.size(1)] = 1 \n",
    "\n",
    "        edges = torch.cat([edge_index, fake_edges], dim=1)\n",
    "        preds = self.connection_probability(z, edges)\n",
    "        \n",
    "        # Take binary cross entropy loss on outputs. Tells model to make\n",
    "        # the dot product of neighhbors closer to 1 (vectors are parallel)\n",
    "        # and dot product of non-neighbors closer to 0 (vectors are orthogonal)\n",
    "        loss = self.bce(preds, targets)\n",
    "        return loss \n",
    "    \n",
    "    def forward(self, x, edge_index):\n",
    "        '''\n",
    "        Every training step, create node embeddings and\n",
    "        calculate loss on how well they summarize nodes' neighborhoods\n",
    "        '''\n",
    "        z = self.embed(x, edge_index)\n",
    "        return self.calc_loss(z, edge_index)\n"
   ]
  },
  {
   "cell_type": "code",
   "execution_count": 28,
   "metadata": {},
   "outputs": [
    {
     "name": "stdout",
     "output_type": "stream",
     "text": [
      "[499] 0.5177782773971558\r"
     ]
    }
   ],
   "source": [
    "from torch.optim import Adam \n",
    "from types import SimpleNamespace\n",
    "\n",
    "# Feel free to mess with these and see how it affects the results\n",
    "HP = SimpleNamespace(\n",
    "    hidden=32, out=2, layers=2, \n",
    "    lr=0.01, epochs=500\n",
    ")\n",
    "model = MyGCNModule(g.x.size(1), HP.hidden, HP.out, HP.layers)\n",
    "opt = Adam(model.parameters(), lr=HP.lr) \n",
    "\n",
    "for e in range(HP.epochs):\n",
    "    model.train()\n",
    "    opt.zero_grad()\n",
    "    loss = model.forward(g.x, g.edge_index)\n",
    "    loss.backward()\n",
    "    opt.step()\n",
    "\n",
    "    if e % 10 == 9:\n",
    "        print(f\"[{e}] {loss.item()}\\r\", end='')\n",
    "\n",
    "with torch.no_grad():\n",
    "    model.eval()\n",
    "    z = model.embed(g.x, g.edge_index)"
   ]
  },
  {
   "attachments": {},
   "cell_type": "markdown",
   "metadata": {},
   "source": [
    "Great, now that we've trained our model, let's see what the results look like"
   ]
  },
  {
   "cell_type": "code",
   "execution_count": 30,
   "metadata": {},
   "outputs": [
    {
     "data": {
      "image/png": "[encoded data removed]",
      "text/plain": [
       "<Figure size 640x480 with 1 Axes>"
      ]
     },
     "metadata": {},
     "output_type": "display_data"
    }
   ],
   "source": [
    "import matplotlib.pyplot as plt \n",
    "plt.scatter(z[:,0], z[:,1], c=g.y)\n",
    "plt.show()"
   ]
  },
  {
   "attachments": {},
   "cell_type": "markdown",
   "metadata": {},
   "source": [
    "Note that colors represent nodes' classes (in this case, when the karate club had a huge argument and broke up, which friend groups remained intact). Do you notice anything interesting? Did clusters form? Recall that we never told the GNN any class information. All it knows are the edges in the graph, yet it does a pretty good job of putting the groups where they ended up. \n",
    "\n",
    "Feel free to go back and experiment some more with the hyper parameters. In this experiment we used a 2-dimensional embedding space so we could easilly visualize the results, but other modules like `sklearn.decomposition.PCA` can help us visualize higher dimensional data in the 2D plane. \n",
    "\n",
    "Feel free to play with this by trying out some other datasets: [See a full list here](https://pytorch-geometric.readthedocs.io/en/latest/modules/datasets.html)\n",
    "\n",
    "If you'd like to get more advanced, explore some of the other GNNs available with `torch_geometric.nn` such as GATConv and GINConv. \n",
    "\n",
    "I hope this was a helpful introduction to GNNs!"
   ]
  }
 ],
 "metadata": {
  "kernelspec": {
   "display_name": "cloud",
   "language": "python",
   "name": "python3"
  },
  "language_info": {
   "codemirror_mode": {
    "name": "ipython",
    "version": 3
   },
   "file_extension": ".py",
   "mimetype": "text/x-python",
   "name": "python",
   "nbconvert_exporter": "python",
   "pygments_lexer": "ipython3",
   "version": "3.10.10"
  },
  "orig_nbformat": 4
 },
 "nbformat": 4,
 "nbformat_minor": 2
}
